{
 "cells": [
  {
   "cell_type": "code",
   "execution_count": 12,
   "metadata": {},
   "outputs": [
    {
     "data": {
      "text/plain": [
       "array([[8.1000e-02, 7.0000e-02, 9.3000e-02, 5.2863e+03, 1.3690e-06],\n",
       "       [4.3000e-02, 2.8000e-01, 1.4300e-01, 3.7720e+02, 1.6660e-06],\n",
       "       [2.8000e-02, 2.6600e-01, 1.4800e-01, 6.8850e+02, 1.4310e-06],\n",
       "       [9.9000e-02, 2.1500e-01, 1.3500e-01, 2.4507e+03, 2.4910e-06],\n",
       "       [7.2000e-02, 2.4400e-01, 1.3100e-01, 2.0558e+03, 2.0280e-06],\n",
       "       [5.3000e-02, 2.0300e-01, 2.1300e-01, 1.3020e+02, 1.9800e-06],\n",
       "       [7.3000e-02, 1.9300e-01, 1.9900e-01, 2.7530e+02, 3.0090e-06],\n",
       "       [8.0000e-02, 1.5400e-01, 2.4700e-01, 6.4400e+01, 3.8500e-06],\n",
       "       [1.4100e-01, 1.3600e-01, 1.5100e-01, 4.6295e+03, 1.9000e-06],\n",
       "       [3.1400e-01, 1.2400e-01, 1.5800e-01, 3.0474e+03, 2.4380e-06],\n",
       "       [4.1500e-01, 2.3600e-01, 1.8200e-01, 2.0991e+03, 1.7340e-06],\n",
       "       [2.8600e-01, 2.1700e-01, 1.4400e-01, 2.6159e+03, 1.3260e-06],\n",
       "       [2.8000e-01, 3.0600e-01, 1.3800e-01, 2.4358e+03, 4.9000e-06],\n",
       "       [3.1600e-01, 2.4600e-01, 1.9200e-01, 7.3290e+02, 2.5380e-06],\n",
       "       [2.3500e-01, 2.2000e-01, 1.4000e-01, 4.4310e+03, 2.8050e-06],\n",
       "       [2.7600e-01, 2.3300e-01, 1.4400e-01, 3.4954e+03, 3.2130e-06],\n",
       "       [9.5000e-02, 2.1700e-01, 1.9300e-01, 2.8039e+03, 3.0210e-06],\n",
       "       [1.1100e-01, 2.5800e-01, 9.2000e-02, 2.2519e+03, 1.4300e-06],\n",
       "       [4.5300e-01, 2.9400e-01, 1.3100e-01, 2.0804e+03, 1.9530e-06],\n",
       "       [3.4800e-01, 3.2400e-01, 1.2900e-01, 1.0475e+03, 2.7440e-06],\n",
       "       [2.2600e-01, 3.0100e-01, 1.1300e-01, 1.8625e+03, 2.3760e-06],\n",
       "       [6.0000e-02, 2.6500e-01, 1.2300e-01, 1.6269e+03, 2.2880e-06],\n",
       "       [1.1900e-01, 2.5400e-01, 1.1900e-01, 2.2879e+03, 2.4500e-06],\n",
       "       [8.4000e-02, 2.2600e-01, 1.5600e-01, 2.3659e+03, 1.4790e-06],\n",
       "       [4.1000e-02, 2.5600e-01, 2.6600e-01, 2.1393e+03, 4.7520e-06],\n",
       "       [9.0000e-03, 2.9000e-01, 2.0900e-01, 1.8724e+03, 1.5680e-06],\n",
       "       [1.4600e-01, 3.0300e-01, 7.7000e-02, 3.0439e+03, 1.9470e-06]])"
      ]
     },
     "execution_count": 12,
     "metadata": {},
     "output_type": "execute_result"
    }
   ],
   "source": [
    "import numpy as np\n",
    "\n",
    "# Example data matrix: rows = communities, columns = indicators\n",
    "data = np.genfromtxt('entropy_in.csv', delimiter=',')\n",
    "zips = data[1:][:, 0]\n",
    "data = data[1:][:,1:]\n",
    "data"
   ]
  },
  {
   "cell_type": "code",
   "execution_count": 13,
   "metadata": {},
   "outputs": [
    {
     "name": "stdout",
     "output_type": "stream",
     "text": [
      "% of population below poverty line: 0.271\n",
      "% of population below 18: 0.074\n",
      "% of population above 65: 0.150\n",
      "Population dens: 0.195\n",
      "% pregnant: 0.310\n"
     ]
    }
   ],
   "source": [
    "# Step 1: Normalize using min-max normalization for each column\n",
    "min_vals = data.min(axis=0)\n",
    "max_vals = data.max(axis=0)\n",
    "norm_data = (data - min_vals) / (max_vals - min_vals)\n",
    "\n",
    "# Step 2: Calculate proportions p_ij\n",
    "# Sum each column (for each factor)\n",
    "col_sums = norm_data.sum(axis=0)\n",
    "p = norm_data / col_sums\n",
    "\n",
    "# Replace zeros (if any) to avoid log(0)\n",
    "p[p == 0] = 1e-12\n",
    "\n",
    "# Step 3: Compute entropy for each factor\n",
    "n = data.shape[0]\n",
    "k = 1 / np.log(n)\n",
    "entropy = -k * (p * np.log(p)).sum(axis=0)\n",
    "\n",
    "# Step 4: Diversification degree\n",
    "diversity = 1 - entropy\n",
    "\n",
    "# Step 5: Compute weights\n",
    "weights = diversity / diversity.sum()\n",
    "\n",
    "# Display the weights for each factor\n",
    "factors = [\"% of population below poverty line\",\"% of population below 18\",\"% of population above 65\",\"Population dens\",\"% pregnant\"]\n",
    "for factor, weight in zip(factors, weights):\n",
    "    print(f\"{factor}: {weight:.3f}\")"
   ]
  },
  {
   "cell_type": "code",
   "execution_count": 19,
   "metadata": {},
   "outputs": [],
   "source": [
    "vulnerabilities = []\n",
    "for i in norm_data:\n",
    "    sum =0\n",
    "    for j in range(5):\n",
    "        sum += weights[j]*i[j]\n",
    "    vulnerabilities.append(sum)\n"
   ]
  },
  {
   "cell_type": "code",
   "execution_count": 20,
   "metadata": {},
   "outputs": [
    {
     "name": "stdout",
     "output_type": "stream",
     "text": [
      "    Zip Codes  Vulnerability Score\n",
      "0     38103.0             0.255413\n",
      "1     38002.0             0.175345\n",
      "2     38017.0             0.157359\n",
      "3     38016.0             0.333220\n",
      "4     38018.0             0.267101\n",
      "5     38028.0             0.232792\n",
      "6     38060.0             0.325518\n",
      "7     38066.0             0.421641\n",
      "8     38104.0             0.378861\n",
      "9     38105.0             0.474253\n",
      "10    38106.0             0.491216\n",
      "11    38107.0             0.360556\n",
      "12    38108.0             0.680754\n",
      "13    38109.0             0.460179\n",
      "14    38111.0             0.522919\n",
      "15    38112.0             0.555350\n",
      "16    38117.0             0.436591\n",
      "17    38125.0             0.219504\n",
      "18    38126.0             0.508965\n",
      "19    38127.0             0.481831\n",
      "20    38128.0             0.386392\n",
      "21    38133.0             0.265998\n",
      "22    38134.0             0.334403\n",
      "23    38135.0             0.253134\n",
      "24    38138.0             0.598084\n",
      "25    38139.0             0.257301\n",
      "26    38141.0             0.316365\n"
     ]
    }
   ],
   "source": [
    "import pandas as pd\n",
    "\n",
    "# Convert to DataFrame\n",
    "df = pd.DataFrame({'Zip Codes': zips, 'Vulnerability Score': vulnerabilities})\n",
    "\n",
    "# Save to CSV\n",
    "df.to_csv('entropy_out.csv', index=False)\n",
    "\n",
    "print(df)"
   ]
  },
  {
   "cell_type": "code",
   "execution_count": null,
   "metadata": {},
   "outputs": [],
   "source": []
  }
 ],
 "metadata": {
  "kernelspec": {
   "display_name": "Python 3",
   "language": "python",
   "name": "python3"
  },
  "language_info": {
   "codemirror_mode": {
    "name": "ipython",
    "version": 3
   },
   "file_extension": ".py",
   "mimetype": "text/x-python",
   "name": "python",
   "nbconvert_exporter": "python",
   "pygments_lexer": "ipython3",
   "version": "3.12.1"
  }
 },
 "nbformat": 4,
 "nbformat_minor": 2
}
