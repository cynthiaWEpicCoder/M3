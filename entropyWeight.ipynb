{
 "cells": [
  {
   "cell_type": "code",
   "execution_count": 7,
   "metadata": {},
   "outputs": [],
   "source": [
    "import numpy as np\n",
    "\n",
    "# Example data matrix: rows = communities, columns = indicators\n",
    "data = np.genfromtxt('entropy_in.csv', delimiter=',')\n",
    "data = data[1:]"
   ]
  },
  {
   "cell_type": "code",
   "execution_count": 8,
   "metadata": {},
   "outputs": [
    {
     "name": "stdout",
     "output_type": "stream",
     "text": [
      "% of population below poverty line: 0.271\n",
      "% of population below 18: 0.074\n",
      "% of population above 65: 0.150\n",
      "Population dens: 0.195\n",
      "% pregnant: 0.310\n"
     ]
    }
   ],
   "source": [
    "# Step 1: Normalize using min-max normalization for each column\n",
    "min_vals = data.min(axis=0)\n",
    "max_vals = data.max(axis=0)\n",
    "norm_data = (data - min_vals) / (max_vals - min_vals)\n",
    "\n",
    "# Step 2: Calculate proportions p_ij\n",
    "# Sum each column (for each factor)\n",
    "col_sums = norm_data.sum(axis=0)\n",
    "p = norm_data / col_sums\n",
    "\n",
    "# Replace zeros (if any) to avoid log(0)\n",
    "p[p == 0] = 1e-12\n",
    "\n",
    "# Step 3: Compute entropy for each factor\n",
    "n = data.shape[0]\n",
    "k = 1 / np.log(n)\n",
    "entropy = -k * (p * np.log(p)).sum(axis=0)\n",
    "\n",
    "# Step 4: Diversification degree\n",
    "diversity = 1 - entropy\n",
    "\n",
    "# Step 5: Compute weights\n",
    "weights = diversity / diversity.sum()\n",
    "\n",
    "# Display the weights for each factor\n",
    "factors = [\"% of population below poverty line\",\"% of population below 18\",\"% of population above 65\",\"Population dens\",\"% pregnant\"]\n",
    "for factor, weight in zip(factors, weights):\n",
    "    print(f\"{factor}: {weight:.3f}\")"
   ]
  },
  {
   "cell_type": "code",
   "execution_count": null,
   "metadata": {},
   "outputs": [],
   "source": []
  }
 ],
 "metadata": {
  "kernelspec": {
   "display_name": "Python 3",
   "language": "python",
   "name": "python3"
  },
  "language_info": {
   "codemirror_mode": {
    "name": "ipython",
    "version": 3
   },
   "file_extension": ".py",
   "mimetype": "text/x-python",
   "name": "python",
   "nbconvert_exporter": "python",
   "pygments_lexer": "ipython3",
   "version": "3.12.1"
  }
 },
 "nbformat": 4,
 "nbformat_minor": 2
}
